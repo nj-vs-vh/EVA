{
 "cells": [
  {
   "cell_type": "code",
   "execution_count": 1,
   "metadata": {},
   "outputs": [],
   "source": [
    "from typing import Callable\n",
    "\n",
    "import emcee\n",
    "import matplotlib.pyplot as plt\n",
    "import numpy as np\n",
    "from scipy import optimize"
   ]
  },
  {
   "cell_type": "code",
   "execution_count": 2,
   "metadata": {},
   "outputs": [],
   "source": [
    "X = np.linspace(1, 10, 10)\n",
    "SIGMA = 1\n",
    "\n",
    "\n",
    "def generate_data(k: float, b: float) -> np.ndarray:\n",
    "    return k * X + b + np.random.normal(loc=0, scale=SIGMA, size=X.shape)\n"
   ]
  },
  {
   "cell_type": "code",
   "execution_count": 3,
   "metadata": {},
   "outputs": [
    {
     "data": {
      "image/png": "[encoded data removed]",
      "text/plain": [
       "<Figure size 600x300 with 1 Axes>"
      ]
     },
     "metadata": {},
     "output_type": "display_data"
    }
   ],
   "source": [
    "def plot_model(y: np.ndarray, k: float, b: float) -> plt.Axes:\n",
    "    _, ax = plt.subplots(figsize=(6, 3))\n",
    "    ax.errorbar(X, y, yerr=SIGMA, fmt=\".\")\n",
    "    ax.plot(X, k * X + b, \"r\")\n",
    "    return ax\n",
    "\n",
    "\n",
    "_ = plot_model(y=generate_data(k=1, b=1), k=1, b=1)"
   ]
  },
  {
   "cell_type": "code",
   "execution_count": 14,
   "metadata": {},
   "outputs": [],
   "source": [
    "def sample(logpost: Callable[[np.ndarray], float], theta_true: np.ndarray, quiet: bool = False) -> np.ndarray:\n",
    "    n_steps = 2_000\n",
    "    n_walkers = 128\n",
    "    n_dim = 2\n",
    "\n",
    "    sampler = emcee.EnsembleSampler(\n",
    "        nwalkers=n_walkers,\n",
    "        ndim=n_dim,\n",
    "        log_prob_fn=logpost,\n",
    "    )\n",
    "    initial_state=theta_true + np.random.normal(loc=0, scale=0.1, size=(n_walkers, 2)) * theta_true\n",
    "\n",
    "    sampler.run_mcmc(initial_state, nsteps=n_steps, progress=not quiet)\n",
    "    if not quiet:\n",
    "        print(f\"Acceptance fraction: {sampler.acceptance_fraction.mean()}\")\n",
    "\n",
    "    tau = sampler.get_autocorr_time(quiet=True)\n",
    "    if not quiet:\n",
    "        print(f\"{tau = }\")\n",
    "\n",
    "    burn_in = 5 * int(tau.max())\n",
    "    thin = 2 * int(tau.max())\n",
    "    if not quiet:\n",
    "        print(f\"{burn_in = } {thin = }\")\n",
    "\n",
    "    theta_sample: np.ndarray = sampler.get_chain(flat=True, discard=burn_in, thin=thin)\n",
    "    if not quiet:\n",
    "        print(f\"MCMC sample ready, shape: {theta_sample.shape}\")\n",
    "\n",
    "    return theta_sample"
   ]
  },
  {
   "cell_type": "code",
   "execution_count": 15,
   "metadata": {},
   "outputs": [],
   "source": [
    "def compare_analyses(k: float, b: float, plot: bool = False, quiet: bool = False):\n",
    "    def display(s: str):\n",
    "        if quiet:\n",
    "            return\n",
    "        print(s)\n",
    "\n",
    "    z_vals = []\n",
    "    display(f\"k = {k:.3f} b = {b:.3f}\")\n",
    "\n",
    "    y = generate_data(k, b)\n",
    "\n",
    "    def loglike(theta: np.ndarray) -> float:\n",
    "        k, b = theta\n",
    "        return -0.5 * np.sum(((k * X + b - y) / SIGMA) ** 2)\n",
    "\n",
    "    display(\"MLE analysis...\")\n",
    "\n",
    "    def negloglike(theta: np.ndarray) -> float:\n",
    "        return -loglike(theta)\n",
    "\n",
    "    theta_true = np.array([k, b])\n",
    "    res = optimize.minimize(\n",
    "        negloglike,\n",
    "        x0=theta_true + np.random.normal(loc=0, scale=0.05, size=2) * theta_true,\n",
    "    )\n",
    "    display(res)\n",
    "    k_best, b_best = res.x\n",
    "    k_err, b_err = np.sqrt(np.diag(res.hess_inv))\n",
    "    display(f\"k = {k_best:.3f} +/- {k_err:.3f}\")\n",
    "    display(f\"b = {b_best:.3f} +/- {b_err:.3f}\")\n",
    "    if plot:\n",
    "        plot_model(y, k_best, b_best)\n",
    "    z_vals.append([(k - k_best) / k_err, (b - b_best) / b_err])\n",
    "\n",
    "    def logpost_naive(theta: np.ndarray) -> float:\n",
    "        return loglike(theta)\n",
    "\n",
    "    def logpost_jeffreys(theta: np.ndarray) -> float:\n",
    "        k, _ = theta\n",
    "        return -np.log(np.abs(k)) + loglike(theta)\n",
    "\n",
    "    def logpost_geometric(theta: np.ndarray) -> float:\n",
    "        k, _ = theta\n",
    "        return -np.log(1 / (1 + k**2)) + loglike(theta)\n",
    "\n",
    "    for logpost, label in (\n",
    "        (logpost_naive, \"naive\"),\n",
    "        (logpost_jeffreys, \"jeffreys\"),\n",
    "        (logpost_geometric, \"geometric\"),\n",
    "    ):\n",
    "        display(f\"Bayesian analysis with prior = {label}...\")\n",
    "        s = sample(logpost, theta_true=theta_true, quiet=quiet)\n",
    "        k_best, b_best = np.mean(s, axis=0)\n",
    "        k_err, b_err = np.std(s, axis=0)\n",
    "        display(f\"k = {k_best:.3f} +/- {k_err:.3f}\")\n",
    "        display(f\"b = {b_best:.3f} +/- {b_err:.3f}\")\n",
    "        if plot:\n",
    "            plot_model(y, k_best, b_best)\n",
    "        z_vals.append([(k - k_best) / k_err, (b - b_best) / b_err])\n",
    "\n",
    "    return np.array(z_vals)"
   ]
  },
  {
   "cell_type": "code",
   "execution_count": 16,
   "metadata": {},
   "outputs": [
    {
     "name": "stderr",
     "output_type": "stream",
     "text": [
      "  4%|▍         | 4/100 [00:24<09:44,  6.09s/it]The chain is shorter than 50 times the integrated autocorrelation time for 2 parameter(s). Use this estimate with caution and run a longer chain!\n",
      "N/50 = 40;\n",
      "tau: [96.76251449 93.84994481]\n",
      "  9%|▉         | 9/100 [00:54<09:15,  6.10s/it]The chain is shorter than 50 times the integrated autocorrelation time for 2 parameter(s). Use this estimate with caution and run a longer chain!\n",
      "N/50 = 40;\n",
      "tau: [85.96807352 80.3683631 ]\n",
      " 11%|█         | 11/100 [01:07<09:18,  6.27s/it]The chain is shorter than 50 times the integrated autocorrelation time for 2 parameter(s). Use this estimate with caution and run a longer chain!\n",
      "N/50 = 40;\n",
      "tau: [72.09884717 60.43577924]\n",
      " 17%|█▋        | 17/100 [01:44<08:25,  6.09s/it]The chain is shorter than 50 times the integrated autocorrelation time for 2 parameter(s). Use this estimate with caution and run a longer chain!\n",
      "N/50 = 40;\n",
      "tau: [65.3173149  62.42643325]\n",
      " 21%|██        | 21/100 [02:09<08:07,  6.17s/it]The chain is shorter than 50 times the integrated autocorrelation time for 2 parameter(s). Use this estimate with caution and run a longer chain!\n",
      "N/50 = 40;\n",
      "tau: [73.19705434 68.22561172]\n",
      " 23%|██▎       | 23/100 [02:21<07:58,  6.21s/it]The chain is shorter than 50 times the integrated autocorrelation time for 2 parameter(s). Use this estimate with caution and run a longer chain!\n",
      "N/50 = 40;\n",
      "tau: [107.17259286  91.60853871]\n",
      " 30%|███       | 30/100 [03:06<07:29,  6.42s/it]The chain is shorter than 50 times the integrated autocorrelation time for 2 parameter(s). Use this estimate with caution and run a longer chain!\n",
      "N/50 = 40;\n",
      "tau: [47.97349973 43.9505332 ]\n",
      " 40%|████      | 40/100 [04:07<06:12,  6.21s/it]The chain is shorter than 50 times the integrated autocorrelation time for 2 parameter(s). Use this estimate with caution and run a longer chain!\n",
      "N/50 = 40;\n",
      "tau: [43.36452162 42.45122853]\n",
      " 46%|████▌     | 46/100 [04:42<05:19,  5.92s/it]The chain is shorter than 50 times the integrated autocorrelation time for 2 parameter(s). Use this estimate with caution and run a longer chain!\n",
      "N/50 = 40;\n",
      "tau: [84.65172648 66.39822165]\n",
      " 53%|█████▎    | 53/100 [05:24<04:36,  5.88s/it]The chain is shorter than 50 times the integrated autocorrelation time for 2 parameter(s). Use this estimate with caution and run a longer chain!\n",
      "N/50 = 40;\n",
      "tau: [117.59651546 100.23086386]\n",
      " 63%|██████▎   | 63/100 [06:21<03:32,  5.75s/it]The chain is shorter than 50 times the integrated autocorrelation time for 2 parameter(s). Use this estimate with caution and run a longer chain!\n",
      "N/50 = 40;\n",
      "tau: [75.83777804 65.64877341]\n",
      " 64%|██████▍   | 64/100 [06:27<03:26,  5.74s/it]The chain is shorter than 50 times the integrated autocorrelation time for 2 parameter(s). Use this estimate with caution and run a longer chain!\n",
      "N/50 = 40;\n",
      "tau: [95.53576564 73.99118921]\n",
      " 67%|██████▋   | 67/100 [06:45<03:13,  5.86s/it]The chain is shorter than 50 times the integrated autocorrelation time for 1 parameter(s). Use this estimate with caution and run a longer chain!\n",
      "N/50 = 40;\n",
      "tau: [39.88917383 43.24716287]\n",
      " 68%|██████▊   | 68/100 [06:51<03:08,  5.89s/it]The chain is shorter than 50 times the integrated autocorrelation time for 2 parameter(s). Use this estimate with caution and run a longer chain!\n",
      "N/50 = 40;\n",
      "tau: [76.75901407 61.24413439]\n",
      " 69%|██████▉   | 69/100 [06:57<03:05,  6.00s/it]The chain is shorter than 50 times the integrated autocorrelation time for 2 parameter(s). Use this estimate with caution and run a longer chain!\n",
      "N/50 = 40;\n",
      "tau: [105.75817661  83.55504003]\n",
      " 89%|████████▉ | 89/100 [09:01<01:05,  5.97s/it]The chain is shorter than 50 times the integrated autocorrelation time for 2 parameter(s). Use this estimate with caution and run a longer chain!\n",
      "N/50 = 40;\n",
      "tau: [106.67937842  93.05915069]\n",
      " 91%|█████████ | 91/100 [09:12<00:53,  5.90s/it]The chain is shorter than 50 times the integrated autocorrelation time for 2 parameter(s). Use this estimate with caution and run a longer chain!\n",
      "N/50 = 40;\n",
      "tau: [99.79805614 90.05036556]\n",
      "100%|██████████| 100/100 [10:06<00:00,  6.07s/it]\n"
     ]
    }
   ],
   "source": [
    "from tqdm import trange\n",
    "\n",
    "z_sample = None\n",
    "\n",
    "for _ in trange(100):\n",
    "    k = np.tan(np.random.random() * np.pi - np.pi / 2)\n",
    "    b = np.random.random() * 100 - 50\n",
    "    z = compare_analyses(k=k, b=b, plot=False, quiet=True)\n",
    "    if z_sample is None:\n",
    "        z_sample = np.expand_dims(z, axis=2)\n",
    "    else:\n",
    "        z_sample = np.concatenate(\n",
    "            (z_sample, np.expand_dims(z, axis=2)),\n",
    "            axis=2,\n",
    "        )"
   ]
  },
  {
   "cell_type": "code",
   "execution_count": 18,
   "metadata": {},
   "outputs": [
    {
     "data": {
      "text/plain": [
       "(4, 2, 100)"
      ]
     },
     "execution_count": 18,
     "metadata": {},
     "output_type": "execute_result"
    }
   ],
   "source": [
    "z_sample.shape\n"
   ]
  },
  {
   "cell_type": "code",
   "execution_count": 20,
   "metadata": {},
   "outputs": [
    {
     "name": "stderr",
     "output_type": "stream",
     "text": [
      "/tmp/ipykernel_7815/1558720158.py:13: UserWarning: FigureCanvasAgg is non-interactive, and thus cannot be shown\n",
      "  fig.show()\n"
     ]
    },
    {
     "data": {
      "image/png": "[encoded data removed]",
      "text/plain": [
       "<Figure size 1000x800 with 2 Axes>"
      ]
     },
     "metadata": {},
     "output_type": "display_data"
    }
   ],
   "source": [
    "fig, axes = plt.subplots(ncols=2, figsize=(10, 8))\n",
    "\n",
    "for j, param in enumerate((\"k\", \"b\")):\n",
    "    ax: plt.Axes = axes[j]\n",
    "    ax.set_title(param)\n",
    "    for i, method in enumerate(\n",
    "        (\"MLE\", \"Naive prior\", \"Jeffreys prior\", \"Geometric prior\")\n",
    "    ):\n",
    "        data = z_sample[i, j, :]\n",
    "        ax.hist(data, density=True, label=method, alpha=0.3)\n",
    "    ax.legend()\n",
    "\n",
    "fig.show()"
   ]
  },
  {
   "cell_type": "code",
   "execution_count": null,
   "metadata": {},
   "outputs": [],
   "source": []
  }
 ],
 "metadata": {
  "language_info": {
   "name": "python"
  }
 },
 "nbformat": 4,
 "nbformat_minor": 2
}
