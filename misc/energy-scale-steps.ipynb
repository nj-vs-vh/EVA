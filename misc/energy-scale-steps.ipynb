{
 "cells": [
  {
   "cell_type": "code",
   "execution_count": 2,
   "metadata": {},
   "outputs": [],
   "source": [
    "import sys\n",
    "\n",
    "sys.path.append(\"..\")\n",
    "import numpy as np"
   ]
  },
  {
   "cell_type": "code",
   "execution_count": 3,
   "metadata": {},
   "outputs": [
    {
     "name": "stdout",
     "output_type": "stream",
     "text": [
      "AMS-02_C_energy.txt: 0.05\n",
      "AMS-02_Fe_energy.txt: 0.07\n",
      "AMS-02_H_energy.txt: 0.04\n",
      "AMS-02_He_energy.txt: 0.05\n",
      "AMS-02_Mg_energy.txt: 0.05\n",
      "AMS-02_O_energy.txt: 0.05\n",
      "AMS-02_Si_energy.txt: 0.05\n",
      "AMS-02_p_He_ratio_rigidity.txt: 0.04\n",
      "AUGER_all_energy.txt: 0.10\n",
      "CALET_C_energy.txt: 0.13\n",
      "CALET_Fe_energy.txt: 0.10\n",
      "CALET_H_energy.txt: 0.11\n",
      "CALET_He_energy.txt: 0.20\n",
      "CALET_O_energy.txt: 0.10\n",
      "CALET_p_He_ratio_rigidity.txt: 0.20\n",
      "CREAM_C_energy.txt: 0.25\n",
      "CREAM_Fe_energy.txt: 0.25\n",
      "CREAM_H_energy.txt: 0.20\n",
      "CREAM_He_energy.txt: 0.20\n",
      "CREAM_Mg_energy.txt: 0.34\n",
      "CREAM_O_energy.txt: 0.26\n",
      "CREAM_Si_energy.txt: 0.24\n",
      "CREAM_light_energy.txt: 0.20\n",
      "DAMPE_H_energy.txt: 0.20\n",
      "DAMPE_He_energy.txt: 0.13\n",
      "DAMPE_all_energy.txt: 0.12\n",
      "DAMPE_light_energy.txt: 0.17\n",
      "GAMMA_SIBYLL_all_energy.txt: 0.10\n",
      "GRAPES_H_energy.txt: 0.20\n",
      "HAWC_QGSJET-II-04_all_energy.txt: 0.10\n",
      "ICECUBE_SIBYLL_21_all_energy.txt: 0.13\n",
      "ICETOP_QGSJET-II-04_all_energy.txt: 0.20\n",
      "ICETOP_SIBYLL_21_all_energy.txt: 0.20\n",
      "ISS-CREAM_H_energy.txt: 0.20\n",
      "KASCADE_QGSJET-01_all_energy.txt: 0.10\n",
      "KASCADE_SIBYLL_21_all_energy.txt: 0.10\n",
      "KGRANDE_QGSJET-II-04_all_energy.txt: 0.11\n",
      "KGRANDE_SIBYLL_23_all_energy.txt: 0.15\n",
      "LHAASO_EPOS-LHC_all_energy.txt: 0.10\n",
      "LHAASO_EPOS-LHC_lnA_energy.txt: 0.10\n",
      "LHAASO_QGSJET-II-04_all_energy.txt: 0.10\n",
      "LHAASO_QGSJET-II-04_lnA_energy.txt: 0.10\n",
      "LHAASO_SIBYLL-23_all_energy.txt: 0.10\n",
      "LHAASO_SIBYLL-23_lnA_energy.txt: 0.10\n",
      "NUCLEON_H_energy.txt: 0.20\n",
      "NUCLEON_all_energy.txt: 0.20\n",
      "NUCLEON_p_He_ratio_rigidity.txt: 0.20\n",
      "PAMELA_H_energy.txt: 0.04\n",
      "PAMELA_He_energy.txt: 0.04\n",
      "TALE_QGSJET-II-04_all_energy.txt: 0.06\n",
      "TA_all_energy.txt: 0.10\n",
      "TIBET_QGSJET+HD_all_energy.txt: 0.10\n",
      "TIBET_QGSJET+PD_all_energy.txt: 0.10\n",
      "TIBET_SIBYLL+HD_all_energy.txt: 0.10\n",
      "TIBET_light_energy.txt: 0.10\n",
      "TUNKA-133_QGSJET-01_all_energy.txt: 0.13\n"
     ]
    }
   ],
   "source": [
    "from model.utils import DATA_DIR, load_data\n",
    "\n",
    "for file in sorted(DATA_DIR.iterdir()):\n",
    "    try:\n",
    "        E, *_ = load_data(file.name, slope=0, norm=1, min_energy=0)\n",
    "        delta_E = np.log10(np.mean(E[1:] / E[:-1]))\n",
    "        print(f\"{file.name}: {delta_E:.2f}\")\n",
    "    except Exception as e:\n",
    "        print(f\"{file.name}: error {e}\")"
   ]
  },
  {
   "cell_type": "code",
   "execution_count": 7,
   "metadata": {},
   "outputs": [
    {
     "data": {
      "text/plain": [
       "np.float64(0.014940349792936524)"
      ]
     },
     "execution_count": 7,
     "metadata": {},
     "output_type": "execute_result"
    }
   ],
   "source": [
    "np.log10(1.035)"
   ]
  }
 ],
 "metadata": {
  "language_info": {
   "name": "python"
  }
 },
 "nbformat": 4,
 "nbformat_minor": 2
}
