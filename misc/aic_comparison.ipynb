{
 "cells": [
  {
   "cell_type": "code",
   "execution_count": 6,
   "metadata": {},
   "outputs": [],
   "source": [
    "aic_1 = 172.00\n",
    "aic_2 = 112.80\n",
    "aic_3 = 106.57\n",
    "aic_4 = 106.66"
   ]
  },
  {
   "cell_type": "code",
   "execution_count": 7,
   "metadata": {},
   "outputs": [
    {
     "name": "stdout",
     "output_type": "stream",
     "text": [
      "universal w.r.t. H+He+res prob: 6.195209889099707e-15\n",
      "H+rest w.r.t. H+He+res prob: 0.044378507147488575\n",
      "H+He+Fe+rest w.r.t. H+He+res prob: 0.9559974818330983\n"
     ]
    }
   ],
   "source": [
    "import numpy as np\n",
    "\n",
    "for alt, label in ((aic_1, \"universal\"), (aic_2, \"H+rest\"), (aic_4, \"H+He+Fe+rest\")):\n",
    "    prob = np.exp(-(alt - aic_3) / 2)\n",
    "    print(f\"{label} w.r.t. H+He+res prob: {prob}\")"
   ]
  },
  {
   "cell_type": "code",
   "execution_count": null,
   "metadata": {},
   "outputs": [],
   "source": []
  }
 ],
 "metadata": {
  "language_info": {
   "name": "python"
  }
 },
 "nbformat": 4,
 "nbformat_minor": 2
}
